{
 "cells": [
  {
   "cell_type": "markdown",
   "id": "ff140d26",
   "metadata": {},
   "source": [
    "# 1480. Running Sum of 1d Array\n",
    "Solved\n",
    "Easy\n",
    "Topics\n",
    "Companies\n",
    "Hint\n",
    "Given an array nums. We define a running sum of an array as runningSum[i] = sum(nums[0]…nums[i]).\n",
    "\n",
    "Return the running sum of nums.\n",
    "\n",
    "Example 1:\n",
    "\n",
    "Input: nums = [1,2,3,4]\n",
    "Output: [1,3,6,10]\n",
    "Explanation: Running sum is obtained as follows: [1, 1+2, 1+2+3, 1+2+3+4].\n"
   ]
  },
  {
   "cell_type": "code",
   "execution_count": 4,
   "id": "1409b852",
   "metadata": {},
   "outputs": [],
   "source": [
    "class Solution:\n",
    "    def runningSum(self, nums: list[int]) -> list[int]:\n",
    "\n",
    "        prefix_sums = []\n",
    "        prefix_sum = 0\n",
    "\n",
    "        for i in range(len(nums)):\n",
    "            # calculate running total\n",
    "            prefix_sum = prefix_sum + nums[i]\n",
    "            # store running total\n",
    "            prefix_sums.append(prefix_sum)\n",
    "\n",
    "        return prefix_sums"
   ]
  },
  {
   "cell_type": "markdown",
   "id": "140308d1",
   "metadata": {},
   "source": [
    "# 303. Range Sum Query - Immutable\n",
    "\n",
    "Given an integer array nums, handle multiple queries of the following type:\n",
    "\n",
    "Calculate the sum of the elements of nums between indices left and right inclusive where left <= right.\n",
    "Implement the NumArray class:\n",
    "\n",
    "NumArray(int[] nums) Initializes the object with the integer array nums.\n",
    "int sumRange(int left, int right) Returns the sum of the elements of nums between indices left and right inclusive (i.e. nums[left] + nums[left + 1] + ... + nums[right]).\n",
    " \n",
    "\n",
    "Example 1:\n",
    "\n",
    "Input\n",
    "[\"NumArray\", \"sumRange\", \"sumRange\", \"sumRange\"]\n",
    "[[[-2, 0, 3, -5, 2, -1]], [0, 2], [2, 5], [0, 5]]\n",
    "Output\n",
    "[null, 1, -1, -3]\n",
    "\n",
    "Explanation\n",
    "NumArray numArray = new NumArray([-2, 0, 3, -5, 2, -1]);\n",
    "numArray.sumRange(0, 2); // return (-2) + 0 + 3 = 1\n",
    "numArray.sumRange(2, 5); // return 3 + (-5) + 2 + (-1) = -1\n",
    "numArray.sumRange(0, 5); // return (-2) + 0 + 3 + (-5) + 2 + (-1) = -3"
   ]
  },
  {
   "cell_type": "code",
   "execution_count": 7,
   "id": "fd27f384",
   "metadata": {},
   "outputs": [],
   "source": [
    "class NumArray:\n",
    "\n",
    "    def __init__(self, nums: list[int]):\n",
    "        self.s = nums\n",
    "\n",
    "    def sumRange(self, left: int, right: int) -> int:\n",
    "        self.prefix_sum = 0\n",
    "        for i in range(left,right+1):\n",
    "            self.prefix_sum += self.s[i]\n",
    "\n",
    "        return self.prefix_sum\n",
    "\n",
    "# Your NumArray object will be instantiated and called as such:\n",
    "# obj = NumArray(nums)\n",
    "# param_1 = obj.sumRange(left,right)"
   ]
  },
  {
   "cell_type": "code",
   "execution_count": 8,
   "id": "2154b158",
   "metadata": {},
   "outputs": [],
   "source": [
    "# Used same technique as 1480: Traverse the list O(n)\n",
    "# If space was not a constraint, and time was a constraint, can you a hashamp. Done below"
   ]
  },
  {
   "cell_type": "code",
   "execution_count": 9,
   "id": "79837e55",
   "metadata": {},
   "outputs": [],
   "source": [
    "class NumArray:\n",
    "\n",
    "    def __init__(self, nums: list[int]):\n",
    "        self.prefix_sum = []\n",
    "        running_sum = 0\n",
    "        for i in range(len(nums)):\n",
    "            running_sum+= nums[i]\n",
    "            self.prefix_sum.append(running_sum)\n",
    "\n",
    "    def sumRange(self, left: int, right: int) -> int: \n",
    "        if left == 0:\n",
    "            return self.prefix_sum[right]\n",
    "        \n",
    "        # example: [100,200,300] l = 1, r = 2 \n",
    "        else:\n",
    "            return self.prefix_sum[right] - self.prefix_sum[left-1]\n",
    "        \n",
    "# Your NumArray object will be instantiated and called as such:\n",
    "# obj = NumArray(nums)\n",
    "# param_1 = obj.sumRange(left,right)"
   ]
  },
  {
   "cell_type": "code",
   "execution_count": null,
   "id": "b1da6478",
   "metadata": {},
   "outputs": [],
   "source": []
  },
  {
   "cell_type": "code",
   "execution_count": null,
   "id": "79beaa80",
   "metadata": {},
   "outputs": [],
   "source": []
  },
  {
   "cell_type": "code",
   "execution_count": null,
   "id": "22859f0a",
   "metadata": {},
   "outputs": [],
   "source": []
  },
  {
   "cell_type": "markdown",
   "id": "7d80fefc",
   "metadata": {},
   "source": [
    "# 560. Subarray Sum Equals K\n",
    "Medium\n",
    "Topics\n",
    "Companies\n",
    "Hint\n",
    "Given an array of integers nums and an integer k, return the total number of subarrays whose sum equals to k.\n",
    "\n",
    "A subarray is a contiguous non-empty sequence of elements within an array.\n",
    "\n",
    " \n",
    "\n",
    "Example 1:\n",
    "\n",
    "Input: nums = [1,1,1], k = 2\n",
    "Output: 2\n",
    "Example 2:\n",
    "\n",
    "Input: nums = [1,2,3], k = 3\n",
    "Output: 2\n",
    " \n",
    "\n",
    "Constraints:\n",
    "\n",
    "1 <= nums.length <= 2 * 104\n",
    "-1000 <= nums[i] <= 1000\n",
    "-107 <= k <= 107"
   ]
  },
  {
   "cell_type": "code",
   "execution_count": 10,
   "id": "8c3ce33c",
   "metadata": {},
   "outputs": [],
   "source": [
    "# Brute Force\n",
    "\n",
    "class Solution:\n",
    "    def subarraySum(self, nums: list[int], k: int) -> int:\n",
    "        count = 0\n",
    "        \n",
    "        for i in range(0, len(nums)):\n",
    "            for j in range(i + 1, len(nums) + 1):\n",
    "                if sum(nums[i:j]) == k:\n",
    "                    count += 1\n",
    "        \n",
    "        return count"
   ]
  },
  {
   "cell_type": "code",
   "execution_count": 16,
   "id": "12b6a9cf",
   "metadata": {},
   "outputs": [],
   "source": [
    "# In linear time\n",
    "# Important"
   ]
  },
  {
   "cell_type": "code",
   "execution_count": null,
   "id": "95f5c587",
   "metadata": {},
   "outputs": [],
   "source": []
  },
  {
   "cell_type": "code",
   "execution_count": 17,
   "id": "731156f4",
   "metadata": {},
   "outputs": [],
   "source": [
    "# Sliding Window"
   ]
  },
  {
   "cell_type": "code",
   "execution_count": null,
   "id": "47a6d4b8",
   "metadata": {},
   "outputs": [],
   "source": []
  }
 ],
 "metadata": {
  "kernelspec": {
   "display_name": "Python 3 (ipykernel)",
   "language": "python",
   "name": "python3"
  },
  "language_info": {
   "codemirror_mode": {
    "name": "ipython",
    "version": 3
   },
   "file_extension": ".py",
   "mimetype": "text/x-python",
   "name": "python",
   "nbconvert_exporter": "python",
   "pygments_lexer": "ipython3",
   "version": "3.9.7"
  }
 },
 "nbformat": 4,
 "nbformat_minor": 5
}
